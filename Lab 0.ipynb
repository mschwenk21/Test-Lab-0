{
 "cells": [
  {
   "cell_type": "markdown",
   "id": "0b676f79-0530-42d7-8fe8-69ec10aed3c7",
   "metadata": {},
   "source": [
    "Basic List Functions"
   ]
  },
  {
   "cell_type": "code",
   "execution_count": 1,
   "id": "b0f1ff51-10a9-4f00-9a0e-cc9d38fab974",
   "metadata": {},
   "outputs": [],
   "source": [
    "import numpy as np"
   ]
  },
  {
   "cell_type": "code",
   "execution_count": 2,
   "id": "00d1e8a8-7540-4527-9071-98b8c034c93a",
   "metadata": {},
   "outputs": [],
   "source": [
    "players = ['Federer', 'Nadal', 'Felix']"
   ]
  },
  {
   "cell_type": "code",
   "execution_count": 3,
   "id": "1f286b25-3c92-49b3-af60-1fb975d07fb3",
   "metadata": {},
   "outputs": [],
   "source": [
    "players.append('Djokovic')\n",
    "players.append('Medvedev')\n",
    "players.append('Sinner')"
   ]
  },
  {
   "cell_type": "code",
   "execution_count": 4,
   "id": "ac59d095-825a-4d64-8f71-0c03fb063f09",
   "metadata": {},
   "outputs": [],
   "source": [
    "new_players = ['Tsitsipas','Rublev','Dimitrov']"
   ]
  },
  {
   "cell_type": "code",
   "execution_count": 32,
   "id": "d3d64320-1d8c-4cef-8485-7dc0fba0ad2d",
   "metadata": {},
   "outputs": [],
   "source": [
    "#players"
   ]
  },
  {
   "cell_type": "code",
   "execution_count": 31,
   "id": "d093ee1c-c9ee-4e86-a1cf-2caae2bf6af1",
   "metadata": {},
   "outputs": [],
   "source": [
    "#new_players"
   ]
  },
  {
   "cell_type": "code",
   "execution_count": 7,
   "id": "9b475b82-2b6a-4ebb-8da0-ad087801e899",
   "metadata": {},
   "outputs": [],
   "source": [
    "for i in new_players:\n",
    "    players.append(i)"
   ]
  },
  {
   "cell_type": "code",
   "execution_count": 30,
   "id": "5d58c7d8-1d95-4f27-ba2b-9cec8f5b202e",
   "metadata": {},
   "outputs": [],
   "source": [
    "#players"
   ]
  },
  {
   "cell_type": "code",
   "execution_count": 9,
   "id": "714148fe-06ea-407d-92f9-858532e511a9",
   "metadata": {},
   "outputs": [],
   "source": [
    "players.remove('Medvedev')"
   ]
  },
  {
   "cell_type": "code",
   "execution_count": 29,
   "id": "f5ebb0cf-a20e-4e9e-a099-8bbc76e5d261",
   "metadata": {},
   "outputs": [],
   "source": [
    "#players"
   ]
  },
  {
   "cell_type": "markdown",
   "id": "99b6a848-a1bd-49da-9778-1fec0b54516b",
   "metadata": {},
   "source": [
    "Indexing and Slicing"
   ]
  },
  {
   "cell_type": "code",
   "execution_count": 28,
   "id": "84d49a08-a57d-4b07-ade4-beb0eff690b1",
   "metadata": {},
   "outputs": [],
   "source": [
    "#players[len(players)-1]"
   ]
  },
  {
   "cell_type": "code",
   "execution_count": 25,
   "id": "6805061b-6c9a-45e7-ba29-72b7c5d579ae",
   "metadata": {},
   "outputs": [],
   "source": [
    "last_three = []\n",
    "last_three.append(players[len(players)-1])\n",
    "last_three.append(players[len(players)-2])\n",
    "last_three.append(players[len(players)-3])\n",
    "#last_three"
   ]
  },
  {
   "cell_type": "markdown",
   "id": "e399eac4-fd45-4d2d-9706-cb4211806cc8",
   "metadata": {},
   "source": [
    "List Comprehension"
   ]
  },
  {
   "cell_type": "code",
   "execution_count": 21,
   "id": "6f709f6c-f149-4747-9742-b5f451edf9c3",
   "metadata": {},
   "outputs": [],
   "source": [
    "math_list = [x*x for x in range(50,100) if x%2==1]"
   ]
  },
  {
   "cell_type": "code",
   "execution_count": 24,
   "id": "53eab653-ab02-4483-bffa-ba38ebd6fa06",
   "metadata": {},
   "outputs": [],
   "source": [
    "filtered_players = [x for x in players if \"e\" in x]\n",
    "#filtered_players"
   ]
  },
  {
   "cell_type": "markdown",
   "id": "55c16185-696c-47bc-8814-a56966a81ea9",
   "metadata": {},
   "source": [
    "Some Other Lists Functions"
   ]
  },
  {
   "cell_type": "code",
   "execution_count": 33,
   "id": "1f5dbbe6-3a97-469f-8bcc-e88485b72665",
   "metadata": {},
   "outputs": [],
   "source": [
    "numbers =  [1, 37, 2, 59, 46, 32, 12, 40, 78]"
   ]
  },
  {
   "cell_type": "code",
   "execution_count": 49,
   "id": "9b9688bd-3a69-4f36-a793-11c1f354c273",
   "metadata": {},
   "outputs": [],
   "source": [
    "numbers.sort(reverse= True)\n",
    "#numbers\n",
    "#print(sum(numbers))\n",
    "#print(min(numbers))\n",
    "#print(max(numbers))\n",
    "from statistics import mean\n",
    "from statistics import median\n",
    "#print(mean(numbers))\n",
    "#print(median(numbers))\n"
   ]
  },
  {
   "cell_type": "markdown",
   "id": "5ffbbf2c-612e-43e9-80ea-7551b09dcfaa",
   "metadata": {},
   "source": [
    "Queues"
   ]
  },
  {
   "cell_type": "code",
   "execution_count": null,
   "id": "c87d217e-21ae-4b02-89e6-9da61d9ea5f4",
   "metadata": {},
   "outputs": [],
   "source": []
  }
 ],
 "metadata": {
  "kernelspec": {
   "display_name": "Python 3 (ipykernel)",
   "language": "python",
   "name": "python3"
  },
  "language_info": {
   "codemirror_mode": {
    "name": "ipython",
    "version": 3
   },
   "file_extension": ".py",
   "mimetype": "text/x-python",
   "name": "python",
   "nbconvert_exporter": "python",
   "pygments_lexer": "ipython3",
   "version": "3.12.4"
  }
 },
 "nbformat": 4,
 "nbformat_minor": 5
}
